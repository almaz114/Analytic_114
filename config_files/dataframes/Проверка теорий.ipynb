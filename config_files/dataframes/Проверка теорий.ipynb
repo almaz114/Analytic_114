{
 "cells": [
  {
   "cell_type": "markdown",
   "metadata": {
    "tags": []
   },
   "source": [
    "## Аналитика данных (временных рядов)"
   ]
  },
  {
   "cell_type": "code",
   "execution_count": 1,
   "metadata": {},
   "outputs": [],
   "source": [
    "import pandas as pd\n",
    "import numpy as np\n",
    "import seaborn as sns\n",
    "import matplotlib.pyplot as plt\n",
    "import time\n",
    "from tqdm import tqdm\n",
    "from tqdm import trange"
   ]
  },
  {
   "cell_type": "code",
   "execution_count": 6,
   "metadata": {},
   "outputs": [
    {
     "data": {
      "text/html": [
       "<div>\n",
       "<style scoped>\n",
       "    .dataframe tbody tr th:only-of-type {\n",
       "        vertical-align: middle;\n",
       "    }\n",
       "\n",
       "    .dataframe tbody tr th {\n",
       "        vertical-align: top;\n",
       "    }\n",
       "\n",
       "    .dataframe thead th {\n",
       "        text-align: right;\n",
       "    }\n",
       "</style>\n",
       "<table border=\"1\" class=\"dataframe\">\n",
       "  <thead>\n",
       "    <tr style=\"text-align: right;\">\n",
       "      <th></th>\n",
       "      <th>time</th>\n",
       "      <th>open</th>\n",
       "      <th>high</th>\n",
       "      <th>low</th>\n",
       "      <th>close</th>\n",
       "    </tr>\n",
       "  </thead>\n",
       "  <tbody>\n",
       "    <tr>\n",
       "      <th>0</th>\n",
       "      <td>2022-04-22 04:00:00</td>\n",
       "      <td>1.08368</td>\n",
       "      <td>1.08508</td>\n",
       "      <td>1.08303</td>\n",
       "      <td>1.08458</td>\n",
       "    </tr>\n",
       "    <tr>\n",
       "      <th>1</th>\n",
       "      <td>2022-04-22 08:00:00</td>\n",
       "      <td>1.08458</td>\n",
       "      <td>1.08519</td>\n",
       "      <td>1.07904</td>\n",
       "      <td>1.07978</td>\n",
       "    </tr>\n",
       "    <tr>\n",
       "      <th>2</th>\n",
       "      <td>2022-04-22 12:00:00</td>\n",
       "      <td>1.07978</td>\n",
       "      <td>1.08253</td>\n",
       "      <td>1.07920</td>\n",
       "      <td>1.08191</td>\n",
       "    </tr>\n",
       "  </tbody>\n",
       "</table>\n",
       "</div>"
      ],
      "text/plain": [
       "                  time     open     high      low    close\n",
       "0  2022-04-22 04:00:00  1.08368  1.08508  1.08303  1.08458\n",
       "1  2022-04-22 08:00:00  1.08458  1.08519  1.07904  1.07978\n",
       "2  2022-04-22 12:00:00  1.07978  1.08253  1.07920  1.08191"
      ]
     },
     "execution_count": 6,
     "metadata": {},
     "output_type": "execute_result"
    }
   ],
   "source": [
    "# df = pd.read_csv('rates_frame_eurusd_H4.csv', index_col=0, delimiter='\\t')      # ВЫвод из ФАЙЛА .CSV ; delimiter - это разделитель в файле csv с помошью знака запятой\n",
    "df = pd.read_csv('rates_frame_eurusd_h4.csv', index_col=0, delimiter='\\t')\n",
    "df_new = df.drop(['tick_volume', 'spread', 'real_volume'], axis=1)     # удаляем \n",
    "#print(df)                                                    # index_col=0 - чтобы не отображать unnamed столбца с инднексом в csv файле\n",
    "# df.tail()    # вывод нескольких строк для обзора содержимонго файла\n",
    "df_new.head(3)"
   ]
  },
  {
   "cell_type": "code",
   "execution_count": 26,
   "metadata": {},
   "outputs": [
    {
     "data": {
      "text/html": [
       "<div>\n",
       "<style scoped>\n",
       "    .dataframe tbody tr th:only-of-type {\n",
       "        vertical-align: middle;\n",
       "    }\n",
       "\n",
       "    .dataframe tbody tr th {\n",
       "        vertical-align: top;\n",
       "    }\n",
       "\n",
       "    .dataframe thead th {\n",
       "        text-align: right;\n",
       "    }\n",
       "</style>\n",
       "<table border=\"1\" class=\"dataframe\">\n",
       "  <thead>\n",
       "    <tr style=\"text-align: right;\">\n",
       "      <th></th>\n",
       "      <th>time</th>\n",
       "      <th>open</th>\n",
       "      <th>high</th>\n",
       "      <th>low</th>\n",
       "      <th>close</th>\n",
       "      <th>sma_22</th>\n",
       "      <th>up</th>\n",
       "      <th>down</th>\n",
       "    </tr>\n",
       "  </thead>\n",
       "  <tbody>\n",
       "    <tr>\n",
       "      <th>0</th>\n",
       "      <td>2022-04-22 04:00:00</td>\n",
       "      <td>1.08368</td>\n",
       "      <td>1.08508</td>\n",
       "      <td>1.08303</td>\n",
       "      <td>1.08458</td>\n",
       "      <td>NaN</td>\n",
       "      <td>False</td>\n",
       "      <td>False</td>\n",
       "    </tr>\n",
       "    <tr>\n",
       "      <th>1</th>\n",
       "      <td>2022-04-22 08:00:00</td>\n",
       "      <td>1.08458</td>\n",
       "      <td>1.08519</td>\n",
       "      <td>1.07904</td>\n",
       "      <td>1.07978</td>\n",
       "      <td>NaN</td>\n",
       "      <td>False</td>\n",
       "      <td>False</td>\n",
       "    </tr>\n",
       "    <tr>\n",
       "      <th>2</th>\n",
       "      <td>2022-04-22 12:00:00</td>\n",
       "      <td>1.07978</td>\n",
       "      <td>1.08253</td>\n",
       "      <td>1.07920</td>\n",
       "      <td>1.08191</td>\n",
       "      <td>NaN</td>\n",
       "      <td>False</td>\n",
       "      <td>False</td>\n",
       "    </tr>\n",
       "    <tr>\n",
       "      <th>3</th>\n",
       "      <td>2022-04-22 16:00:00</td>\n",
       "      <td>1.08193</td>\n",
       "      <td>1.08450</td>\n",
       "      <td>1.07707</td>\n",
       "      <td>1.07789</td>\n",
       "      <td>NaN</td>\n",
       "      <td>False</td>\n",
       "      <td>False</td>\n",
       "    </tr>\n",
       "    <tr>\n",
       "      <th>4</th>\n",
       "      <td>2022-04-22 20:00:00</td>\n",
       "      <td>1.07789</td>\n",
       "      <td>1.08011</td>\n",
       "      <td>1.07780</td>\n",
       "      <td>1.08009</td>\n",
       "      <td>NaN</td>\n",
       "      <td>False</td>\n",
       "      <td>False</td>\n",
       "    </tr>\n",
       "    <tr>\n",
       "      <th>...</th>\n",
       "      <td>...</td>\n",
       "      <td>...</td>\n",
       "      <td>...</td>\n",
       "      <td>...</td>\n",
       "      <td>...</td>\n",
       "      <td>...</td>\n",
       "      <td>...</td>\n",
       "      <td>...</td>\n",
       "    </tr>\n",
       "    <tr>\n",
       "      <th>85</th>\n",
       "      <td>2022-05-12 08:00:00</td>\n",
       "      <td>1.05189</td>\n",
       "      <td>1.05210</td>\n",
       "      <td>1.04402</td>\n",
       "      <td>1.04407</td>\n",
       "      <td>1.05355</td>\n",
       "      <td>False</td>\n",
       "      <td>True</td>\n",
       "    </tr>\n",
       "    <tr>\n",
       "      <th>86</th>\n",
       "      <td>2022-05-12 12:00:00</td>\n",
       "      <td>1.04407</td>\n",
       "      <td>1.04465</td>\n",
       "      <td>1.03885</td>\n",
       "      <td>1.04168</td>\n",
       "      <td>1.05297</td>\n",
       "      <td>False</td>\n",
       "      <td>True</td>\n",
       "    </tr>\n",
       "    <tr>\n",
       "      <th>87</th>\n",
       "      <td>2022-05-12 16:00:00</td>\n",
       "      <td>1.04167</td>\n",
       "      <td>1.04262</td>\n",
       "      <td>1.03546</td>\n",
       "      <td>1.03594</td>\n",
       "      <td>1.05224</td>\n",
       "      <td>False</td>\n",
       "      <td>True</td>\n",
       "    </tr>\n",
       "    <tr>\n",
       "      <th>88</th>\n",
       "      <td>2022-05-12 20:00:00</td>\n",
       "      <td>1.03594</td>\n",
       "      <td>1.03822</td>\n",
       "      <td>1.03540</td>\n",
       "      <td>1.03779</td>\n",
       "      <td>1.05163</td>\n",
       "      <td>False</td>\n",
       "      <td>True</td>\n",
       "    </tr>\n",
       "    <tr>\n",
       "      <th>89</th>\n",
       "      <td>2022-05-13 00:00:00</td>\n",
       "      <td>1.03779</td>\n",
       "      <td>1.03842</td>\n",
       "      <td>1.03731</td>\n",
       "      <td>1.03797</td>\n",
       "      <td>1.05105</td>\n",
       "      <td>False</td>\n",
       "      <td>True</td>\n",
       "    </tr>\n",
       "  </tbody>\n",
       "</table>\n",
       "<p>90 rows × 8 columns</p>\n",
       "</div>"
      ],
      "text/plain": [
       "                  time     open     high      low    close   sma_22     up  \\\n",
       "0  2022-04-22 04:00:00  1.08368  1.08508  1.08303  1.08458      NaN  False   \n",
       "1  2022-04-22 08:00:00  1.08458  1.08519  1.07904  1.07978      NaN  False   \n",
       "2  2022-04-22 12:00:00  1.07978  1.08253  1.07920  1.08191      NaN  False   \n",
       "3  2022-04-22 16:00:00  1.08193  1.08450  1.07707  1.07789      NaN  False   \n",
       "4  2022-04-22 20:00:00  1.07789  1.08011  1.07780  1.08009      NaN  False   \n",
       "..                 ...      ...      ...      ...      ...      ...    ...   \n",
       "85 2022-05-12 08:00:00  1.05189  1.05210  1.04402  1.04407  1.05355  False   \n",
       "86 2022-05-12 12:00:00  1.04407  1.04465  1.03885  1.04168  1.05297  False   \n",
       "87 2022-05-12 16:00:00  1.04167  1.04262  1.03546  1.03594  1.05224  False   \n",
       "88 2022-05-12 20:00:00  1.03594  1.03822  1.03540  1.03779  1.05163  False   \n",
       "89 2022-05-13 00:00:00  1.03779  1.03842  1.03731  1.03797  1.05105  False   \n",
       "\n",
       "     down  \n",
       "0   False  \n",
       "1   False  \n",
       "2   False  \n",
       "3   False  \n",
       "4   False  \n",
       "..    ...  \n",
       "85   True  \n",
       "86   True  \n",
       "87   True  \n",
       "88   True  \n",
       "89   True  \n",
       "\n",
       "[90 rows x 8 columns]"
      ]
     },
     "execution_count": 26,
     "metadata": {},
     "output_type": "execute_result"
    }
   ],
   "source": [
    "df_new['time'] = pd.to_datetime(df_new['time'])     # поле time строкового формата сделаем как дата !\n",
    "df_new['sma_22'] = df_new.close.rolling(22).mean()       # создание нового поля содержащего SMA за n-баров\n",
    "df_new[\"up\"] = np.where(df_new.low > df_new[\"sma_22\"]  , True, False)  # новое поле согласно условиям, если low ниже sma, то присвоим значение True\n",
    "df_new[\"down\"] = np.where(df_new.close < df_new[\"sma_22\"]  , True, False)  # новое поле\n",
    "df_new.round(5)   # Округление dataframe\n",
    "# df_new.info()"
   ]
  },
  {
   "cell_type": "code",
   "execution_count": 6,
   "metadata": {},
   "outputs": [
    {
     "name": "stdout",
     "output_type": "stream",
     "text": [
      "down count:57, up: 8\n"
     ]
    }
   ],
   "source": [
    "# df_temp = df_new.iloc[240:255]\n",
    "df_temp = df_new.copy(deep=True)\n",
    "# df_temp.loc['total'] = df_temp.sum(numeric_only=None, skipna = True)     # итоговая строка с подсуммированием по всем столбцу \n",
    "down = df_temp.down.sum()   # сумма итого datafarme по столбцу 'down'\n",
    "up = df_temp.up.sum()\n",
    "print(f\"down count:{down}, up: {up}\")"
   ]
  },
  {
   "cell_type": "code",
   "execution_count": 5,
   "metadata": {},
   "outputs": [
    {
     "data": {
      "text/html": [
       "<div>\n",
       "<style scoped>\n",
       "    .dataframe tbody tr th:only-of-type {\n",
       "        vertical-align: middle;\n",
       "    }\n",
       "\n",
       "    .dataframe tbody tr th {\n",
       "        vertical-align: top;\n",
       "    }\n",
       "\n",
       "    .dataframe thead th {\n",
       "        text-align: right;\n",
       "    }\n",
       "</style>\n",
       "<table border=\"1\" class=\"dataframe\">\n",
       "  <thead>\n",
       "    <tr style=\"text-align: right;\">\n",
       "      <th></th>\n",
       "      <th>time</th>\n",
       "      <th>open</th>\n",
       "      <th>high</th>\n",
       "      <th>low</th>\n",
       "      <th>close</th>\n",
       "      <th>sma_22</th>\n",
       "      <th>up</th>\n",
       "      <th>down</th>\n",
       "    </tr>\n",
       "  </thead>\n",
       "  <tbody>\n",
       "    <tr>\n",
       "      <th>85</th>\n",
       "      <td>2022-05-02</td>\n",
       "      <td>1.05421</td>\n",
       "      <td>1.05681</td>\n",
       "      <td>1.04902</td>\n",
       "      <td>1.05072</td>\n",
       "      <td>1.078745</td>\n",
       "      <td>False</td>\n",
       "      <td>True</td>\n",
       "    </tr>\n",
       "    <tr>\n",
       "      <th>86</th>\n",
       "      <td>2022-05-03</td>\n",
       "      <td>1.05070</td>\n",
       "      <td>1.05775</td>\n",
       "      <td>1.04922</td>\n",
       "      <td>1.05202</td>\n",
       "      <td>1.076360</td>\n",
       "      <td>False</td>\n",
       "      <td>True</td>\n",
       "    </tr>\n",
       "    <tr>\n",
       "      <th>87</th>\n",
       "      <td>2022-05-04</td>\n",
       "      <td>1.05186</td>\n",
       "      <td>1.06306</td>\n",
       "      <td>1.05060</td>\n",
       "      <td>1.06219</td>\n",
       "      <td>1.074771</td>\n",
       "      <td>False</td>\n",
       "      <td>True</td>\n",
       "    </tr>\n",
       "    <tr>\n",
       "      <th>88</th>\n",
       "      <td>2022-05-05</td>\n",
       "      <td>1.06196</td>\n",
       "      <td>1.06419</td>\n",
       "      <td>1.04928</td>\n",
       "      <td>1.05410</td>\n",
       "      <td>1.073121</td>\n",
       "      <td>False</td>\n",
       "      <td>True</td>\n",
       "    </tr>\n",
       "    <tr>\n",
       "      <th>89</th>\n",
       "      <td>2022-05-06</td>\n",
       "      <td>1.05413</td>\n",
       "      <td>1.05987</td>\n",
       "      <td>1.04828</td>\n",
       "      <td>1.05439</td>\n",
       "      <td>1.071522</td>\n",
       "      <td>False</td>\n",
       "      <td>True</td>\n",
       "    </tr>\n",
       "  </tbody>\n",
       "</table>\n",
       "</div>"
      ],
      "text/plain": [
       "         time     open     high      low    close    sma_22     up  down\n",
       "85 2022-05-02  1.05421  1.05681  1.04902  1.05072  1.078745  False  True\n",
       "86 2022-05-03  1.05070  1.05775  1.04922  1.05202  1.076360  False  True\n",
       "87 2022-05-04  1.05186  1.06306  1.05060  1.06219  1.074771  False  True\n",
       "88 2022-05-05  1.06196  1.06419  1.04928  1.05410  1.073121  False  True\n",
       "89 2022-05-06  1.05413  1.05987  1.04828  1.05439  1.071522  False  True"
      ]
     },
     "execution_count": 5,
     "metadata": {},
     "output_type": "execute_result"
    }
   ],
   "source": [
    "# df_temp.info()\n",
    "df_temp.tail(5)"
   ]
  },
  {
   "cell_type": "code",
   "execution_count": null,
   "metadata": {},
   "outputs": [],
   "source": [
    "# iterate for dataframe\n",
    "deviation = 0.0005   # максимальное отклонение цены в пипсах\n",
    "for i, row in df_temp.iterrows():\n",
    "    temp_list = []\n",
    "    # time.sleep()\n",
    "    # print(i, row['time'].day, row['close'], row['low'])\n",
    "    # print(f\"{df_temp.time[i]}, next: {df_temp.time[i+1]}\")   # вот так можно сравнивать строки !!!\n",
    "    # print(f\"{df_temp.loc[i]['low']}\")    # или вот можно сравнить с предыдущей строкой\n",
    "    temp_list = []\n",
    "    temp_dict = {}\n",
    "    if i > 0 and df_temp.close[i] <= df_temp.close[i-1]:\n",
    "        temp_dict['begin_date'] = str(df_temp.time[i].day)\n",
    "        temp_dict['close_price'] = df.close[i]\n",
    "        print(f\"day = {df_temp.time[i].day}, month: {df_temp.time[i].month}, {df.close[i]=} < {df.close[i-1]}\")\n",
    "\n",
    "        # if temp_dict['close_price'] <= df.close[i]:\n",
    "            # print(f\"mimimum closest prices: {temp_dict['close_price']}\")\n"
   ]
  },
  {
   "cell_type": "code",
   "execution_count": null,
   "metadata": {
    "tags": []
   },
   "outputs": [],
   "source": [
    "# поиск максимально встречющегося элемента в списке counts_values - содержащем все значения которые были рядом\n",
    "for i in range(20):     # проверка счетчика появлений значения до 10 - раз\n",
    "    new_list = [e for e in set(counts_values) if counts_values.count(e) == i]\n",
    "    if new_list:\n",
    "        print(f\"price : {new_list}, кол-во появлений: {i}\") #[1, 3]"
   ]
  },
  {
   "cell_type": "markdown",
   "metadata": {
    "tags": []
   },
   "source": [
    "## Новая версия дополненная"
   ]
  },
  {
   "cell_type": "code",
   "execution_count": 56,
   "metadata": {
    "tags": []
   },
   "outputs": [
    {
     "name": "stdout",
     "output_type": "stream",
     "text": [
      "begin_data.day=28\n"
     ]
    },
    {
     "name": "stderr",
     "output_type": "stream",
     "text": [
      "100%|██████████████████████████████████████████████| 180/180 [00:02<00:00, 60.11it/s]"
     ]
    },
    {
     "name": "stdout",
     "output_type": "stream",
     "text": [
      "dict_of_supports: dict_of_supports={'support_28_4': {'begin_data': Timestamp('2022-04-28 00:00:00'), 'price_close': 1.04983, 'counts_values': 8}}\n",
      "counts_values: [1.04906, 1.04902, 1.04922, 1.0506, 1.04928, 1.04828, 1.04983, 1.05072], len counts_values: 8\n"
     ]
    },
    {
     "name": "stderr",
     "output_type": "stream",
     "text": [
      "\n"
     ]
    }
   ],
   "source": [
    "\n",
    "def find_supports(delta: float):\n",
    "    \"\"\"\n",
    "    поиск проторговок, delta - параметр отклноений(в пунктах) от цены возмжной проторговки/поддержки\n",
    "    \"\"\"\n",
    "    dict_of_supports = {}\n",
    "    a_massiv = np.array([])     # создаем пустой массив\n",
    "    counts_values = []\n",
    "\n",
    "    list_closes = df_temp.close.values.tolist()   # список значений из соответ-го столбца 'close'\n",
    "    list_lowes = df_temp.low.values.tolist()      # список значений из соответ-го столбца 'low'\n",
    "    full_list = list_lowes + list_closes          # все значения из 'close' and 'low'\n",
    "    minimum_close = df_temp.close.min()           # минимальное значение из столбца 'close'\n",
    "    id_close_price = df_temp.close.argmin()       # индекс строки где стоит минимальное значение по col 'close'\n",
    "    begin_data = df_temp.time[id_close_price]     # начало даты проторговки\n",
    "    print(f\"{begin_data.day=}\")\n",
    "\n",
    "\n",
    "    distance_high = minimum_close + delta     # значение рядом (сверху) со минимльным значением\n",
    "    distance_low = minimum_close - delta      # значение рядом (снизу) со минимльным значением \n",
    "\n",
    "\n",
    "    for i in trange (len(full_list)):       # цикл по столбцу \"df_item\" from df_list сверху/вниз\n",
    "        value = full_list[i]            # get value from df\n",
    "        #  print(i, value)\n",
    "        # a_massiv = np.append(a_massiv, value)     # добавляем каждое новое value from df_column в массив array\n",
    "        # minElement = np.amin(a_massiv)            # находим min- элемент массива [a_massiv] с добавленными элементами \n",
    "        minElement = minimum_close   # новая версия минимума\n",
    "        time.sleep(0.01)\n",
    "\n",
    "        if distance_low <= value <= distance_high:      # если значение value находится рядом с нашим minimum of a_massiv\n",
    "            # print(f\"номер строки i: {i}, from: {df_close.columns[0]}\")  # df_item.columns[0] - str(имя колонки)\n",
    "            counts_values.append(value)\n",
    "    if counts_values and len(counts_values) > 3:\n",
    "        dict_of_supports['support_'+ str(begin_data.day)+ '_'+ str(begin_data.month)] = {'begin_data': begin_data, 'price_close': minimum_close, 'counts_values': len(counts_values)}\n",
    "        return counts_values, dict_of_supports\n",
    "    \n",
    "    \n",
    "result, dict_of_supports = find_supports(delta = 0.00155)    \n",
    "print(f\"dict_of_supports: {dict_of_supports=}\")\n",
    "print(f\"counts_values: {result}, len counts_values: {len(result)}\")"
   ]
  },
  {
   "cell_type": "code",
   "execution_count": null,
   "metadata": {
    "tags": []
   },
   "outputs": [],
   "source": [
    "def find_resistance(delta: float, df: pd.DataFrame):\n",
    "    \"\"\"\n",
    "    поиск сопротивлений, delta - параметр отклноений(в пунктах) от цены возмжной проторговки/сопротивления\n",
    "    \"\"\"\n",
    "    counts_values = []\n",
    "    list_closes = df.close.values.tolist()   # список значений из соответ-го столбца 'close'\n",
    "    list_highs = df.high.values.tolist()      # список значений из соответ-го столбца 'low'\n",
    "    full_list = list_highs + list_closes          # все значения из 'close' and 'low'\n",
    "    maxmimum_high = df.high.max()           # минимальное значение из столбца 'close'\n",
    "    id_high_price = df.high.argmax()       # индекс строки где стоит минимальное значение по col 'close'\n",
    "    begin_data = df.time[id_high_price]     # начало даты проторговки\n",
    "    \n",
    "    distance_high = maxmimum_high + delta     # значение рядом (сверху) со минимльным значением\n",
    "    distance_low = maxmimum_high - delta      # значение рядом (снизу) со минимльным значением \n",
    "    \n",
    "    a_massiv = np.array([])     # создаем пустой массив\n",
    "    # print(f\"{maxmimum_high=}\")\n",
    "    \n",
    "    for i, row in df.iterrows():\n",
    "        if df.close[i] <= df.high[i]:\n",
    "            # print(f\"{df.time[i]=}, {df.close[i]=}, {df.high[i]}\")+ delta\n",
    "            # a_massiv = np.append(a_massiv, value)     # добавляем каждое новое value from df_column в массив array\n",
    "            # minElement = np.amin(a_massiv)            # находим min- элемент массива [a_massiv] с добавленными элементами \n",
    "            \n",
    "            if df.high[i] - delta <= df.high[i] <= df.high[i] + delta: \n",
    "                \n",
    "    \n",
    "find_resistance(delta=0.00015, df=df_temp )"
   ]
  },
  {
   "cell_type": "markdown",
   "metadata": {},
   "source": [
    "# Визуализация данных из dataframe"
   ]
  },
  {
   "cell_type": "markdown",
   "metadata": {},
   "source": [
    "## <font color='yellow'>1.1 Определение тренда по SMA </font> "
   ]
  },
  {
   "cell_type": "code",
   "execution_count": 29,
   "metadata": {},
   "outputs": [
    {
     "name": "stdout",
     "output_type": "stream",
     "text": [
      "<class 'pandas.core.frame.DataFrame'>\n",
      "Int64Index: 90 entries, 0 to 89\n",
      "Data columns (total 8 columns):\n",
      " #   Column  Non-Null Count  Dtype         \n",
      "---  ------  --------------  -----         \n",
      " 0   time    90 non-null     datetime64[ns]\n",
      " 1   open    90 non-null     float64       \n",
      " 2   high    90 non-null     float64       \n",
      " 3   low     90 non-null     float64       \n",
      " 4   close   90 non-null     float64       \n",
      " 5   sma_22  69 non-null     float64       \n",
      " 6   up      90 non-null     bool          \n",
      " 7   down    90 non-null     bool          \n",
      "dtypes: bool(2), datetime64[ns](1), float64(5)\n",
      "memory usage: 5.1 KB\n"
     ]
    },
    {
     "data": {
      "image/png": "[encoded data removed]",
      "text/plain": [
       "<Figure size 432x288 with 1 Axes>"
      ]
     },
     "metadata": {
      "needs_background": "light"
     },
     "output_type": "display_data"
    }
   ],
   "source": [
    "df_new[['close', 'low', 'sma_22']].plot()\n",
    "df_new[['high', 'low']]\n",
    "df_new.info()"
   ]
  },
  {
   "cell_type": "code",
   "execution_count": 58,
   "metadata": {},
   "outputs": [
    {
     "data": {
      "text/plain": [
       "time               2022-05-13 00:00:00\n",
       "distance_to_sma               0.016305\n",
       "dtype: object"
      ]
     },
     "execution_count": 58,
     "metadata": {},
     "output_type": "execute_result"
    },
    {
     "data": {
      "image/png": "[encoded data removed]",
      "text/plain": [
       "<Figure size 1080x360 with 1 Axes>"
      ]
     },
     "metadata": {
      "needs_background": "light"
     },
     "output_type": "display_data"
    }
   ],
   "source": [
    "df_new['distance_to_sma'].dropna()\n",
    "df_new[\"distance_to_sma\"] =  df_new['sma_22'] - df_new['close']\n",
    "df_new['distance_to_sma'].plot( kind='bar', figsize=(15,5))\n",
    "df_new[['time', 'distance_to_sma']].max()\n",
    "# df_new[df_new]"
   ]
  },
  {
   "cell_type": "code",
   "execution_count": null,
   "metadata": {},
   "outputs": [],
   "source": []
  }
 ],
 "metadata": {
  "kernelspec": {
   "display_name": "Python 3",
   "language": "python",
   "name": "python3"
  },
  "language_info": {
   "codemirror_mode": {
    "name": "ipython",
    "version": 3
   },
   "file_extension": ".py",
   "mimetype": "text/x-python",
   "name": "python",
   "nbconvert_exporter": "python",
   "pygments_lexer": "ipython3",
   "version": "3.9.9"
  }
 },
 "nbformat": 4,
 "nbformat_minor": 4
}
